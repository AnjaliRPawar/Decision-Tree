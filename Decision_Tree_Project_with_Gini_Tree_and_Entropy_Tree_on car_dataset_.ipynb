{
  "nbformat": 4,
  "nbformat_minor": 0,
  "metadata": {
    "colab": {
      "provenance": []
    },
    "kernelspec": {
      "name": "python3",
      "display_name": "Python 3"
    },
    "language_info": {
      "name": "python"
    }
  },
  "cells": [
    {
      "cell_type": "markdown",
      "source": [
        "#The car evaluation dataset is collected from UCI Machine Learning Repository and the data source (creator) was Marko Bohanec [1]. It contains 1728 car sample information with 7 attributes, including one class feature that tells whether the car is in acceptable conditions. The feature names with their descriptions are listed following:\n",
        "\n",
        "buying_price: Buying Level or Capacity of the customer (Very High: vhigh, High: high, Low: low, Medium: med)\n",
        "maint_cost: Maintenence Level (Very High: vhigh, High: high, Low: low, Medium: med)\n",
        "doors: Number of doors in the car (2, 3, 4, and 5 or more)\n",
        "person_capacity: capacity in terms of persons to carry (2, 4, and more)\n",
        "lug_boot: The size of the Luggage Boot (small, med, big)\n",
        "safety: Safety Level of Car (high, med, low)\n",
        "class: Unacceptable, Acceptable, VeryGood, Good"
      ],
      "metadata": {
        "id": "3RGEG32-HLO-"
      }
    },
    {
      "cell_type": "code",
      "source": [
        "import numpy as np # linear algebra\n",
        "import pandas as pd # data processing, CSV file I/O (e.g. pd.read_csv)\n",
        "import matplotlib.pyplot as plt # data visualization\n",
        "import seaborn as sns # statistical data visualization\n",
        "%matplotlib inline"
      ],
      "metadata": {
        "id": "r9TQy717HzvG"
      },
      "execution_count": null,
      "outputs": []
    },
    {
      "cell_type": "code",
      "source": [
        "df = pd.read_csv('car_evaluation.csv')"
      ],
      "metadata": {
        "id": "2f4EpMqbHzx8"
      },
      "execution_count": null,
      "outputs": []
    },
    {
      "cell_type": "code",
      "source": [
        "df"
      ],
      "metadata": {
        "id": "Er0sKlkaHz0l",
        "colab": {
          "base_uri": "https://localhost:8080/",
          "height": 424
        },
        "outputId": "36bb0649-a558-42ba-e900-10431d4b0508"
      },
      "execution_count": null,
      "outputs": [
        {
          "output_type": "execute_result",
          "data": {
            "text/plain": [
              "     buying price maintenance cost number of doors number of persons lug_boot  \\\n",
              "0           vhigh            vhigh               2                 2    small   \n",
              "1           vhigh            vhigh               2                 2    small   \n",
              "2           vhigh            vhigh               2                 2    small   \n",
              "3           vhigh            vhigh               2                 2      med   \n",
              "4           vhigh            vhigh               2                 2      med   \n",
              "...           ...              ...             ...               ...      ...   \n",
              "1723          low              low           5more              more      med   \n",
              "1724          low              low           5more              more      med   \n",
              "1725          low              low           5more              more      big   \n",
              "1726          low              low           5more              more      big   \n",
              "1727          low              low           5more              more      big   \n",
              "\n",
              "     safety decision  \n",
              "0       low    unacc  \n",
              "1       med    unacc  \n",
              "2      high    unacc  \n",
              "3       low    unacc  \n",
              "4       med    unacc  \n",
              "...     ...      ...  \n",
              "1723    med     good  \n",
              "1724   high    vgood  \n",
              "1725    low    unacc  \n",
              "1726    med     good  \n",
              "1727   high    vgood  \n",
              "\n",
              "[1728 rows x 7 columns]"
            ],
            "text/html": [
              "\n",
              "  <div id=\"df-1b11c53d-33f2-49be-a6c7-57a6b8f8d763\">\n",
              "    <div class=\"colab-df-container\">\n",
              "      <div>\n",
              "<style scoped>\n",
              "    .dataframe tbody tr th:only-of-type {\n",
              "        vertical-align: middle;\n",
              "    }\n",
              "\n",
              "    .dataframe tbody tr th {\n",
              "        vertical-align: top;\n",
              "    }\n",
              "\n",
              "    .dataframe thead th {\n",
              "        text-align: right;\n",
              "    }\n",
              "</style>\n",
              "<table border=\"1\" class=\"dataframe\">\n",
              "  <thead>\n",
              "    <tr style=\"text-align: right;\">\n",
              "      <th></th>\n",
              "      <th>buying price</th>\n",
              "      <th>maintenance cost</th>\n",
              "      <th>number of doors</th>\n",
              "      <th>number of persons</th>\n",
              "      <th>lug_boot</th>\n",
              "      <th>safety</th>\n",
              "      <th>decision</th>\n",
              "    </tr>\n",
              "  </thead>\n",
              "  <tbody>\n",
              "    <tr>\n",
              "      <th>0</th>\n",
              "      <td>vhigh</td>\n",
              "      <td>vhigh</td>\n",
              "      <td>2</td>\n",
              "      <td>2</td>\n",
              "      <td>small</td>\n",
              "      <td>low</td>\n",
              "      <td>unacc</td>\n",
              "    </tr>\n",
              "    <tr>\n",
              "      <th>1</th>\n",
              "      <td>vhigh</td>\n",
              "      <td>vhigh</td>\n",
              "      <td>2</td>\n",
              "      <td>2</td>\n",
              "      <td>small</td>\n",
              "      <td>med</td>\n",
              "      <td>unacc</td>\n",
              "    </tr>\n",
              "    <tr>\n",
              "      <th>2</th>\n",
              "      <td>vhigh</td>\n",
              "      <td>vhigh</td>\n",
              "      <td>2</td>\n",
              "      <td>2</td>\n",
              "      <td>small</td>\n",
              "      <td>high</td>\n",
              "      <td>unacc</td>\n",
              "    </tr>\n",
              "    <tr>\n",
              "      <th>3</th>\n",
              "      <td>vhigh</td>\n",
              "      <td>vhigh</td>\n",
              "      <td>2</td>\n",
              "      <td>2</td>\n",
              "      <td>med</td>\n",
              "      <td>low</td>\n",
              "      <td>unacc</td>\n",
              "    </tr>\n",
              "    <tr>\n",
              "      <th>4</th>\n",
              "      <td>vhigh</td>\n",
              "      <td>vhigh</td>\n",
              "      <td>2</td>\n",
              "      <td>2</td>\n",
              "      <td>med</td>\n",
              "      <td>med</td>\n",
              "      <td>unacc</td>\n",
              "    </tr>\n",
              "    <tr>\n",
              "      <th>...</th>\n",
              "      <td>...</td>\n",
              "      <td>...</td>\n",
              "      <td>...</td>\n",
              "      <td>...</td>\n",
              "      <td>...</td>\n",
              "      <td>...</td>\n",
              "      <td>...</td>\n",
              "    </tr>\n",
              "    <tr>\n",
              "      <th>1723</th>\n",
              "      <td>low</td>\n",
              "      <td>low</td>\n",
              "      <td>5more</td>\n",
              "      <td>more</td>\n",
              "      <td>med</td>\n",
              "      <td>med</td>\n",
              "      <td>good</td>\n",
              "    </tr>\n",
              "    <tr>\n",
              "      <th>1724</th>\n",
              "      <td>low</td>\n",
              "      <td>low</td>\n",
              "      <td>5more</td>\n",
              "      <td>more</td>\n",
              "      <td>med</td>\n",
              "      <td>high</td>\n",
              "      <td>vgood</td>\n",
              "    </tr>\n",
              "    <tr>\n",
              "      <th>1725</th>\n",
              "      <td>low</td>\n",
              "      <td>low</td>\n",
              "      <td>5more</td>\n",
              "      <td>more</td>\n",
              "      <td>big</td>\n",
              "      <td>low</td>\n",
              "      <td>unacc</td>\n",
              "    </tr>\n",
              "    <tr>\n",
              "      <th>1726</th>\n",
              "      <td>low</td>\n",
              "      <td>low</td>\n",
              "      <td>5more</td>\n",
              "      <td>more</td>\n",
              "      <td>big</td>\n",
              "      <td>med</td>\n",
              "      <td>good</td>\n",
              "    </tr>\n",
              "    <tr>\n",
              "      <th>1727</th>\n",
              "      <td>low</td>\n",
              "      <td>low</td>\n",
              "      <td>5more</td>\n",
              "      <td>more</td>\n",
              "      <td>big</td>\n",
              "      <td>high</td>\n",
              "      <td>vgood</td>\n",
              "    </tr>\n",
              "  </tbody>\n",
              "</table>\n",
              "<p>1728 rows × 7 columns</p>\n",
              "</div>\n",
              "      <button class=\"colab-df-convert\" onclick=\"convertToInteractive('df-1b11c53d-33f2-49be-a6c7-57a6b8f8d763')\"\n",
              "              title=\"Convert this dataframe to an interactive table.\"\n",
              "              style=\"display:none;\">\n",
              "        \n",
              "  <svg xmlns=\"http://www.w3.org/2000/svg\" height=\"24px\"viewBox=\"0 0 24 24\"\n",
              "       width=\"24px\">\n",
              "    <path d=\"M0 0h24v24H0V0z\" fill=\"none\"/>\n",
              "    <path d=\"M18.56 5.44l.94 2.06.94-2.06 2.06-.94-2.06-.94-.94-2.06-.94 2.06-2.06.94zm-11 1L8.5 8.5l.94-2.06 2.06-.94-2.06-.94L8.5 2.5l-.94 2.06-2.06.94zm10 10l.94 2.06.94-2.06 2.06-.94-2.06-.94-.94-2.06-.94 2.06-2.06.94z\"/><path d=\"M17.41 7.96l-1.37-1.37c-.4-.4-.92-.59-1.43-.59-.52 0-1.04.2-1.43.59L10.3 9.45l-7.72 7.72c-.78.78-.78 2.05 0 2.83L4 21.41c.39.39.9.59 1.41.59.51 0 1.02-.2 1.41-.59l7.78-7.78 2.81-2.81c.8-.78.8-2.07 0-2.86zM5.41 20L4 18.59l7.72-7.72 1.47 1.35L5.41 20z\"/>\n",
              "  </svg>\n",
              "      </button>\n",
              "      \n",
              "  <style>\n",
              "    .colab-df-container {\n",
              "      display:flex;\n",
              "      flex-wrap:wrap;\n",
              "      gap: 12px;\n",
              "    }\n",
              "\n",
              "    .colab-df-convert {\n",
              "      background-color: #E8F0FE;\n",
              "      border: none;\n",
              "      border-radius: 50%;\n",
              "      cursor: pointer;\n",
              "      display: none;\n",
              "      fill: #1967D2;\n",
              "      height: 32px;\n",
              "      padding: 0 0 0 0;\n",
              "      width: 32px;\n",
              "    }\n",
              "\n",
              "    .colab-df-convert:hover {\n",
              "      background-color: #E2EBFA;\n",
              "      box-shadow: 0px 1px 2px rgba(60, 64, 67, 0.3), 0px 1px 3px 1px rgba(60, 64, 67, 0.15);\n",
              "      fill: #174EA6;\n",
              "    }\n",
              "\n",
              "    [theme=dark] .colab-df-convert {\n",
              "      background-color: #3B4455;\n",
              "      fill: #D2E3FC;\n",
              "    }\n",
              "\n",
              "    [theme=dark] .colab-df-convert:hover {\n",
              "      background-color: #434B5C;\n",
              "      box-shadow: 0px 1px 3px 1px rgba(0, 0, 0, 0.15);\n",
              "      filter: drop-shadow(0px 1px 2px rgba(0, 0, 0, 0.3));\n",
              "      fill: #FFFFFF;\n",
              "    }\n",
              "  </style>\n",
              "\n",
              "      <script>\n",
              "        const buttonEl =\n",
              "          document.querySelector('#df-1b11c53d-33f2-49be-a6c7-57a6b8f8d763 button.colab-df-convert');\n",
              "        buttonEl.style.display =\n",
              "          google.colab.kernel.accessAllowed ? 'block' : 'none';\n",
              "\n",
              "        async function convertToInteractive(key) {\n",
              "          const element = document.querySelector('#df-1b11c53d-33f2-49be-a6c7-57a6b8f8d763');\n",
              "          const dataTable =\n",
              "            await google.colab.kernel.invokeFunction('convertToInteractive',\n",
              "                                                     [key], {});\n",
              "          if (!dataTable) return;\n",
              "\n",
              "          const docLinkHtml = 'Like what you see? Visit the ' +\n",
              "            '<a target=\"_blank\" href=https://colab.research.google.com/notebooks/data_table.ipynb>data table notebook</a>'\n",
              "            + ' to learn more about interactive tables.';\n",
              "          element.innerHTML = '';\n",
              "          dataTable['output_type'] = 'display_data';\n",
              "          await google.colab.output.renderOutput(dataTable, element);\n",
              "          const docLink = document.createElement('div');\n",
              "          docLink.innerHTML = docLinkHtml;\n",
              "          element.appendChild(docLink);\n",
              "        }\n",
              "      </script>\n",
              "    </div>\n",
              "  </div>\n",
              "  "
            ]
          },
          "metadata": {},
          "execution_count": 7
        }
      ]
    },
    {
      "cell_type": "code",
      "source": [
        "df.info()"
      ],
      "metadata": {
        "id": "3cmcBuWlHz27",
        "colab": {
          "base_uri": "https://localhost:8080/"
        },
        "outputId": "6e5acde1-23ea-4b73-baca-95417f8cccb7"
      },
      "execution_count": null,
      "outputs": [
        {
          "output_type": "stream",
          "name": "stdout",
          "text": [
            "<class 'pandas.core.frame.DataFrame'>\n",
            "RangeIndex: 1728 entries, 0 to 1727\n",
            "Data columns (total 7 columns):\n",
            " #   Column             Non-Null Count  Dtype \n",
            "---  ------             --------------  ----- \n",
            " 0   buying price       1728 non-null   object\n",
            " 1   maintenance cost   1728 non-null   object\n",
            " 2   number of doors    1728 non-null   object\n",
            " 3   number of persons  1728 non-null   object\n",
            " 4   lug_boot           1728 non-null   object\n",
            " 5   safety             1728 non-null   object\n",
            " 6   decision           1728 non-null   object\n",
            "dtypes: object(7)\n",
            "memory usage: 94.6+ KB\n"
          ]
        }
      ]
    },
    {
      "cell_type": "code",
      "source": [
        "X = df.drop(['decision'], axis=1)\n",
        "\n",
        "y = df['decision']"
      ],
      "metadata": {
        "id": "qPJSd3XDHz_B"
      },
      "execution_count": null,
      "outputs": []
    },
    {
      "cell_type": "code",
      "source": [
        "from sklearn.model_selection import train_test_split\n",
        "\n",
        "X_train, X_test, y_train, y_test = train_test_split(X, y, test_size = 0.33)"
      ],
      "metadata": {
        "id": "xj2ctOULH0Bg"
      },
      "execution_count": null,
      "outputs": []
    },
    {
      "cell_type": "code",
      "source": [
        "df.columns"
      ],
      "metadata": {
        "id": "n8DJmD-6Je40",
        "colab": {
          "base_uri": "https://localhost:8080/"
        },
        "outputId": "d322b6a4-4cb4-4532-e82c-b4c691969f4f"
      },
      "execution_count": null,
      "outputs": [
        {
          "output_type": "execute_result",
          "data": {
            "text/plain": [
              "Index(['buying price', 'maintenance cost', 'number of doors',\n",
              "       'number of persons', 'lug_boot', 'safety', 'decision'],\n",
              "      dtype='object')"
            ]
          },
          "metadata": {},
          "execution_count": 11
        }
      ]
    },
    {
      "cell_type": "code",
      "source": [
        "pip install category_encoders"
      ],
      "metadata": {
        "id": "FHXwh0WQJ1eP",
        "colab": {
          "base_uri": "https://localhost:8080/"
        },
        "outputId": "790fcf20-6347-4b63-878f-f3e3d8519b27"
      },
      "execution_count": null,
      "outputs": [
        {
          "output_type": "stream",
          "name": "stdout",
          "text": [
            "Looking in indexes: https://pypi.org/simple, https://us-python.pkg.dev/colab-wheels/public/simple/\n",
            "Collecting category_encoders\n",
            "  Downloading category_encoders-2.6.0-py2.py3-none-any.whl (81 kB)\n",
            "\u001b[2K     \u001b[90m━━━━━━━━━━━━━━━━━━━━━━━━━━━━━━━━━━━━━━━━\u001b[0m \u001b[32m81.2/81.2 KB\u001b[0m \u001b[31m3.5 MB/s\u001b[0m eta \u001b[36m0:00:00\u001b[0m\n",
            "\u001b[?25hRequirement already satisfied: pandas>=1.0.5 in /usr/local/lib/python3.8/dist-packages (from category_encoders) (1.3.5)\n",
            "Requirement already satisfied: patsy>=0.5.1 in /usr/local/lib/python3.8/dist-packages (from category_encoders) (0.5.3)\n",
            "Requirement already satisfied: numpy>=1.14.0 in /usr/local/lib/python3.8/dist-packages (from category_encoders) (1.21.6)\n",
            "Requirement already satisfied: statsmodels>=0.9.0 in /usr/local/lib/python3.8/dist-packages (from category_encoders) (0.12.2)\n",
            "Requirement already satisfied: scipy>=1.0.0 in /usr/local/lib/python3.8/dist-packages (from category_encoders) (1.7.3)\n",
            "Requirement already satisfied: scikit-learn>=0.20.0 in /usr/local/lib/python3.8/dist-packages (from category_encoders) (1.0.2)\n",
            "Requirement already satisfied: python-dateutil>=2.7.3 in /usr/local/lib/python3.8/dist-packages (from pandas>=1.0.5->category_encoders) (2.8.2)\n",
            "Requirement already satisfied: pytz>=2017.3 in /usr/local/lib/python3.8/dist-packages (from pandas>=1.0.5->category_encoders) (2022.7)\n",
            "Requirement already satisfied: six in /usr/local/lib/python3.8/dist-packages (from patsy>=0.5.1->category_encoders) (1.15.0)\n",
            "Requirement already satisfied: threadpoolctl>=2.0.0 in /usr/local/lib/python3.8/dist-packages (from scikit-learn>=0.20.0->category_encoders) (3.1.0)\n",
            "Requirement already satisfied: joblib>=0.11 in /usr/local/lib/python3.8/dist-packages (from scikit-learn>=0.20.0->category_encoders) (1.2.0)\n",
            "Installing collected packages: category_encoders\n",
            "Successfully installed category_encoders-2.6.0\n"
          ]
        }
      ]
    },
    {
      "cell_type": "code",
      "source": [
        "import category_encoders as ce\n",
        "# encode variables with ordinal encoding\n",
        "encoder = ce.OrdinalEncoder(cols=['buying price', 'maintenance cost', 'number of doors', 'number of persons', 'lug_boot', 'safety'])\n",
        "X_train = encoder.fit_transform(X_train)\n",
        "X_test = encoder.transform(X_test)"
      ],
      "metadata": {
        "id": "-lY8LAanJVq0"
      },
      "execution_count": null,
      "outputs": []
    },
    {
      "cell_type": "code",
      "source": [
        "X_train"
      ],
      "metadata": {
        "id": "-GLWb4qCJur_",
        "colab": {
          "base_uri": "https://localhost:8080/",
          "height": 424
        },
        "outputId": "ab6c7789-e870-4445-d3a2-a95ba1fb9de8"
      },
      "execution_count": null,
      "outputs": [
        {
          "output_type": "execute_result",
          "data": {
            "text/plain": [
              "      buying price  maintenance cost  number of doors  number of persons  \\\n",
              "647              1                 1                1                  1   \n",
              "467              1                 2                2                  2   \n",
              "538              1                 2                1                  1   \n",
              "1314             2                 2                3                  1   \n",
              "742              1                 3                1                  3   \n",
              "...            ...               ...              ...                ...   \n",
              "94               3                 2                1                  3   \n",
              "536              1                 2                1                  1   \n",
              "814              1                 4                4                  2   \n",
              "394              3                 4                4                  3   \n",
              "858              1                 4                1                  1   \n",
              "\n",
              "      lug_boot  safety  \n",
              "647          1       1  \n",
              "467          1       1  \n",
              "538          1       2  \n",
              "1314         2       3  \n",
              "742          3       2  \n",
              "...        ...     ...  \n",
              "94           3       2  \n",
              "536          3       1  \n",
              "814          3       2  \n",
              "394          1       2  \n",
              "858          3       3  \n",
              "\n",
              "[1157 rows x 6 columns]"
            ],
            "text/html": [
              "\n",
              "  <div id=\"df-afa8c310-a8de-455d-ab4e-214097c09eee\">\n",
              "    <div class=\"colab-df-container\">\n",
              "      <div>\n",
              "<style scoped>\n",
              "    .dataframe tbody tr th:only-of-type {\n",
              "        vertical-align: middle;\n",
              "    }\n",
              "\n",
              "    .dataframe tbody tr th {\n",
              "        vertical-align: top;\n",
              "    }\n",
              "\n",
              "    .dataframe thead th {\n",
              "        text-align: right;\n",
              "    }\n",
              "</style>\n",
              "<table border=\"1\" class=\"dataframe\">\n",
              "  <thead>\n",
              "    <tr style=\"text-align: right;\">\n",
              "      <th></th>\n",
              "      <th>buying price</th>\n",
              "      <th>maintenance cost</th>\n",
              "      <th>number of doors</th>\n",
              "      <th>number of persons</th>\n",
              "      <th>lug_boot</th>\n",
              "      <th>safety</th>\n",
              "    </tr>\n",
              "  </thead>\n",
              "  <tbody>\n",
              "    <tr>\n",
              "      <th>647</th>\n",
              "      <td>1</td>\n",
              "      <td>1</td>\n",
              "      <td>1</td>\n",
              "      <td>1</td>\n",
              "      <td>1</td>\n",
              "      <td>1</td>\n",
              "    </tr>\n",
              "    <tr>\n",
              "      <th>467</th>\n",
              "      <td>1</td>\n",
              "      <td>2</td>\n",
              "      <td>2</td>\n",
              "      <td>2</td>\n",
              "      <td>1</td>\n",
              "      <td>1</td>\n",
              "    </tr>\n",
              "    <tr>\n",
              "      <th>538</th>\n",
              "      <td>1</td>\n",
              "      <td>2</td>\n",
              "      <td>1</td>\n",
              "      <td>1</td>\n",
              "      <td>1</td>\n",
              "      <td>2</td>\n",
              "    </tr>\n",
              "    <tr>\n",
              "      <th>1314</th>\n",
              "      <td>2</td>\n",
              "      <td>2</td>\n",
              "      <td>3</td>\n",
              "      <td>1</td>\n",
              "      <td>2</td>\n",
              "      <td>3</td>\n",
              "    </tr>\n",
              "    <tr>\n",
              "      <th>742</th>\n",
              "      <td>1</td>\n",
              "      <td>3</td>\n",
              "      <td>1</td>\n",
              "      <td>3</td>\n",
              "      <td>3</td>\n",
              "      <td>2</td>\n",
              "    </tr>\n",
              "    <tr>\n",
              "      <th>...</th>\n",
              "      <td>...</td>\n",
              "      <td>...</td>\n",
              "      <td>...</td>\n",
              "      <td>...</td>\n",
              "      <td>...</td>\n",
              "      <td>...</td>\n",
              "    </tr>\n",
              "    <tr>\n",
              "      <th>94</th>\n",
              "      <td>3</td>\n",
              "      <td>2</td>\n",
              "      <td>1</td>\n",
              "      <td>3</td>\n",
              "      <td>3</td>\n",
              "      <td>2</td>\n",
              "    </tr>\n",
              "    <tr>\n",
              "      <th>536</th>\n",
              "      <td>1</td>\n",
              "      <td>2</td>\n",
              "      <td>1</td>\n",
              "      <td>1</td>\n",
              "      <td>3</td>\n",
              "      <td>1</td>\n",
              "    </tr>\n",
              "    <tr>\n",
              "      <th>814</th>\n",
              "      <td>1</td>\n",
              "      <td>4</td>\n",
              "      <td>4</td>\n",
              "      <td>2</td>\n",
              "      <td>3</td>\n",
              "      <td>2</td>\n",
              "    </tr>\n",
              "    <tr>\n",
              "      <th>394</th>\n",
              "      <td>3</td>\n",
              "      <td>4</td>\n",
              "      <td>4</td>\n",
              "      <td>3</td>\n",
              "      <td>1</td>\n",
              "      <td>2</td>\n",
              "    </tr>\n",
              "    <tr>\n",
              "      <th>858</th>\n",
              "      <td>1</td>\n",
              "      <td>4</td>\n",
              "      <td>1</td>\n",
              "      <td>1</td>\n",
              "      <td>3</td>\n",
              "      <td>3</td>\n",
              "    </tr>\n",
              "  </tbody>\n",
              "</table>\n",
              "<p>1157 rows × 6 columns</p>\n",
              "</div>\n",
              "      <button class=\"colab-df-convert\" onclick=\"convertToInteractive('df-afa8c310-a8de-455d-ab4e-214097c09eee')\"\n",
              "              title=\"Convert this dataframe to an interactive table.\"\n",
              "              style=\"display:none;\">\n",
              "        \n",
              "  <svg xmlns=\"http://www.w3.org/2000/svg\" height=\"24px\"viewBox=\"0 0 24 24\"\n",
              "       width=\"24px\">\n",
              "    <path d=\"M0 0h24v24H0V0z\" fill=\"none\"/>\n",
              "    <path d=\"M18.56 5.44l.94 2.06.94-2.06 2.06-.94-2.06-.94-.94-2.06-.94 2.06-2.06.94zm-11 1L8.5 8.5l.94-2.06 2.06-.94-2.06-.94L8.5 2.5l-.94 2.06-2.06.94zm10 10l.94 2.06.94-2.06 2.06-.94-2.06-.94-.94-2.06-.94 2.06-2.06.94z\"/><path d=\"M17.41 7.96l-1.37-1.37c-.4-.4-.92-.59-1.43-.59-.52 0-1.04.2-1.43.59L10.3 9.45l-7.72 7.72c-.78.78-.78 2.05 0 2.83L4 21.41c.39.39.9.59 1.41.59.51 0 1.02-.2 1.41-.59l7.78-7.78 2.81-2.81c.8-.78.8-2.07 0-2.86zM5.41 20L4 18.59l7.72-7.72 1.47 1.35L5.41 20z\"/>\n",
              "  </svg>\n",
              "      </button>\n",
              "      \n",
              "  <style>\n",
              "    .colab-df-container {\n",
              "      display:flex;\n",
              "      flex-wrap:wrap;\n",
              "      gap: 12px;\n",
              "    }\n",
              "\n",
              "    .colab-df-convert {\n",
              "      background-color: #E8F0FE;\n",
              "      border: none;\n",
              "      border-radius: 50%;\n",
              "      cursor: pointer;\n",
              "      display: none;\n",
              "      fill: #1967D2;\n",
              "      height: 32px;\n",
              "      padding: 0 0 0 0;\n",
              "      width: 32px;\n",
              "    }\n",
              "\n",
              "    .colab-df-convert:hover {\n",
              "      background-color: #E2EBFA;\n",
              "      box-shadow: 0px 1px 2px rgba(60, 64, 67, 0.3), 0px 1px 3px 1px rgba(60, 64, 67, 0.15);\n",
              "      fill: #174EA6;\n",
              "    }\n",
              "\n",
              "    [theme=dark] .colab-df-convert {\n",
              "      background-color: #3B4455;\n",
              "      fill: #D2E3FC;\n",
              "    }\n",
              "\n",
              "    [theme=dark] .colab-df-convert:hover {\n",
              "      background-color: #434B5C;\n",
              "      box-shadow: 0px 1px 3px 1px rgba(0, 0, 0, 0.15);\n",
              "      filter: drop-shadow(0px 1px 2px rgba(0, 0, 0, 0.3));\n",
              "      fill: #FFFFFF;\n",
              "    }\n",
              "  </style>\n",
              "\n",
              "      <script>\n",
              "        const buttonEl =\n",
              "          document.querySelector('#df-afa8c310-a8de-455d-ab4e-214097c09eee button.colab-df-convert');\n",
              "        buttonEl.style.display =\n",
              "          google.colab.kernel.accessAllowed ? 'block' : 'none';\n",
              "\n",
              "        async function convertToInteractive(key) {\n",
              "          const element = document.querySelector('#df-afa8c310-a8de-455d-ab4e-214097c09eee');\n",
              "          const dataTable =\n",
              "            await google.colab.kernel.invokeFunction('convertToInteractive',\n",
              "                                                     [key], {});\n",
              "          if (!dataTable) return;\n",
              "\n",
              "          const docLinkHtml = 'Like what you see? Visit the ' +\n",
              "            '<a target=\"_blank\" href=https://colab.research.google.com/notebooks/data_table.ipynb>data table notebook</a>'\n",
              "            + ' to learn more about interactive tables.';\n",
              "          element.innerHTML = '';\n",
              "          dataTable['output_type'] = 'display_data';\n",
              "          await google.colab.output.renderOutput(dataTable, element);\n",
              "          const docLink = document.createElement('div');\n",
              "          docLink.innerHTML = docLinkHtml;\n",
              "          element.appendChild(docLink);\n",
              "        }\n",
              "      </script>\n",
              "    </div>\n",
              "  </div>\n",
              "  "
            ]
          },
          "metadata": {},
          "execution_count": 14
        }
      ]
    },
    {
      "cell_type": "markdown",
      "metadata": {
        "id": "J1Eyy9KfLXwB"
      },
      "source": [
        "## Training a Decision Tree Model\n",
        "\n",
        "Let's start by training a single decision tree first!\n",
        "\n",
        "** Import DecisionTreeClassifier**"
      ]
    },
    {
      "cell_type": "code",
      "execution_count": null,
      "metadata": {
        "collapsed": true,
        "id": "NG9k8KjCLXwC"
      },
      "outputs": [],
      "source": [
        "from sklearn.tree import DecisionTreeClassifier"
      ]
    },
    {
      "cell_type": "markdown",
      "metadata": {
        "id": "EQl9Rf0GLXwC"
      },
      "source": [
        "**Create an instance of DecisionTreeClassifier() called dtree and fit it to the training data.**"
      ]
    },
    {
      "cell_type": "code",
      "execution_count": null,
      "metadata": {
        "collapsed": true,
        "id": "m0UfjgoHLXwC"
      },
      "outputs": [],
      "source": [
        "dtree = DecisionTreeClassifier()"
      ]
    },
    {
      "cell_type": "code",
      "execution_count": null,
      "metadata": {
        "id": "ViYYH-nfLXwD",
        "colab": {
          "base_uri": "https://localhost:8080/"
        },
        "outputId": "898d6da2-c0cf-40b5-86a3-e6e7931468a3"
      },
      "outputs": [
        {
          "output_type": "execute_result",
          "data": {
            "text/plain": [
              "DecisionTreeClassifier()"
            ]
          },
          "metadata": {},
          "execution_count": 17
        }
      ],
      "source": [
        "dtree.fit(X_train,y_train)"
      ]
    },
    {
      "cell_type": "markdown",
      "metadata": {
        "id": "hPHNGWWuLXwD"
      },
      "source": [
        "## Predictions and Evaluation of Decision Tree\n",
        "**Create predictions from the test set and create a classification report and a confusion matrix.**"
      ]
    },
    {
      "cell_type": "code",
      "execution_count": null,
      "metadata": {
        "collapsed": true,
        "id": "K_glPhWDLXwE"
      },
      "outputs": [],
      "source": [
        "predictions = dtree.predict(X_test)"
      ]
    },
    {
      "cell_type": "code",
      "execution_count": null,
      "metadata": {
        "collapsed": true,
        "id": "0SBsOqp2LXwE"
      },
      "outputs": [],
      "source": [
        "from sklearn.metrics import classification_report,confusion_matrix"
      ]
    },
    {
      "cell_type": "code",
      "execution_count": null,
      "metadata": {
        "id": "-WfDpWpYLXwE",
        "colab": {
          "base_uri": "https://localhost:8080/"
        },
        "outputId": "65ce61bd-bb4c-4c46-876c-651085c1374f"
      },
      "outputs": [
        {
          "output_type": "stream",
          "name": "stdout",
          "text": [
            "              precision    recall  f1-score   support\n",
            "\n",
            "         acc       0.90      0.84      0.87       137\n",
            "        good       0.80      0.84      0.82        19\n",
            "       unacc       0.95      0.98      0.96       392\n",
            "       vgood       0.90      0.83      0.86        23\n",
            "\n",
            "    accuracy                           0.93       571\n",
            "   macro avg       0.89      0.87      0.88       571\n",
            "weighted avg       0.93      0.93      0.93       571\n",
            "\n"
          ]
        }
      ],
      "source": [
        "print(classification_report(y_test,predictions))"
      ]
    },
    {
      "cell_type": "code",
      "execution_count": null,
      "metadata": {
        "id": "mQBup_t_LXwE",
        "colab": {
          "base_uri": "https://localhost:8080/"
        },
        "outputId": "a3614aad-ea53-4fc8-b26b-be04e4f21a06"
      },
      "outputs": [
        {
          "output_type": "stream",
          "name": "stdout",
          "text": [
            "[[115   2  18   2]\n",
            " [  2  16   1   0]\n",
            " [  9   0 383   0]\n",
            " [  2   2   0  19]]\n"
          ]
        }
      ],
      "source": [
        "print(confusion_matrix(y_test,predictions))"
      ]
    },
    {
      "cell_type": "markdown",
      "metadata": {
        "id": "Ya_GYTxoLXwF"
      },
      "source": [
        "## Training the Random Forest model\n",
        "\n",
        "Now its time to train our model!\n",
        "\n",
        "**Create an instance of the RandomForestClassifier class and fit it to our training data from the previous step.**"
      ]
    },
    {
      "cell_type": "code",
      "execution_count": null,
      "metadata": {
        "collapsed": true,
        "id": "B2XkXy8NLXwF"
      },
      "outputs": [],
      "source": [
        "from sklearn.ensemble import RandomForestClassifier"
      ]
    },
    {
      "cell_type": "code",
      "execution_count": null,
      "metadata": {
        "collapsed": true,
        "id": "ajneLBsALXwF"
      },
      "outputs": [],
      "source": [
        "rfc = RandomForestClassifier(n_estimators=600)"
      ]
    },
    {
      "cell_type": "code",
      "execution_count": null,
      "metadata": {
        "id": "oC3B7hqbLXwF",
        "colab": {
          "base_uri": "https://localhost:8080/"
        },
        "outputId": "fd7c377d-40f1-4b97-a259-ebe4f5bea715"
      },
      "outputs": [
        {
          "output_type": "execute_result",
          "data": {
            "text/plain": [
              "RandomForestClassifier(n_estimators=600)"
            ]
          },
          "metadata": {},
          "execution_count": 24
        }
      ],
      "source": [
        "rfc.fit(X_train,y_train)"
      ]
    },
    {
      "cell_type": "markdown",
      "metadata": {
        "id": "5JJZtc2ALXwF"
      },
      "source": [
        "## Predictions and Evaluation\n",
        "\n",
        "Let's predict off the y_test values and evaluate our model.\n",
        "\n",
        "** Predict the class of not.fully.paid for the X_test data.**"
      ]
    },
    {
      "cell_type": "code",
      "execution_count": null,
      "metadata": {
        "id": "Q8Nzf20SLXwG"
      },
      "outputs": [],
      "source": [
        "predictions = rfc.predict(X_test)"
      ]
    },
    {
      "cell_type": "markdown",
      "metadata": {
        "id": "GSIkqDluLXwG"
      },
      "source": [
        "**Now create a classification report from the results. Do you get anything strange or some sort of warning?**"
      ]
    },
    {
      "cell_type": "code",
      "execution_count": null,
      "metadata": {
        "collapsed": true,
        "id": "0jK_ubH0LXwG"
      },
      "outputs": [],
      "source": [
        "from sklearn.metrics import classification_report,confusion_matrix"
      ]
    },
    {
      "cell_type": "code",
      "execution_count": null,
      "metadata": {
        "id": "q2sGcT1YLXwG",
        "colab": {
          "base_uri": "https://localhost:8080/"
        },
        "outputId": "f3db9fda-b172-4d38-ecbb-7f186a82e699"
      },
      "outputs": [
        {
          "output_type": "stream",
          "name": "stdout",
          "text": [
            "              precision    recall  f1-score   support\n",
            "\n",
            "         acc       0.82      0.82      0.82       137\n",
            "        good       0.65      0.58      0.61        19\n",
            "       unacc       0.94      0.98      0.96       392\n",
            "       vgood       1.00      0.43      0.61        23\n",
            "\n",
            "    accuracy                           0.91       571\n",
            "   macro avg       0.85      0.70      0.75       571\n",
            "weighted avg       0.91      0.91      0.90       571\n",
            "\n"
          ]
        }
      ],
      "source": [
        "print(classification_report(y_test,predictions))"
      ]
    },
    {
      "cell_type": "markdown",
      "metadata": {
        "id": "oqRR5sDGLXwH"
      },
      "source": [
        "**Show the Confusion Matrix for the predictions.**"
      ]
    },
    {
      "cell_type": "code",
      "execution_count": null,
      "metadata": {
        "id": "DOkHk0tsLXwH",
        "colab": {
          "base_uri": "https://localhost:8080/"
        },
        "outputId": "a17c2927-3ec2-4850-faf0-c4a0d0a1dae5"
      },
      "outputs": [
        {
          "output_type": "stream",
          "name": "stdout",
          "text": [
            "[[113   0  24   0]\n",
            " [  8  11   0   0]\n",
            " [  9   0 383   0]\n",
            " [  7   6   0  10]]\n"
          ]
        }
      ],
      "source": [
        "print(confusion_matrix(y_test,predictions))"
      ]
    },
    {
      "cell_type": "code",
      "source": [
        "# instantiate the DecisionTreeClassifier model with criterion gini index\n",
        "clf_gini = DecisionTreeClassifier(criterion='gini', max_depth=3, random_state=0)\n",
        "plt.figure(figsize=(12,8))\n",
        "from sklearn import tree\n",
        "tree.plot_tree(clf_gini.fit(X_train, y_train)) "
      ],
      "metadata": {
        "id": "u7AR9grLMcwT",
        "colab": {
          "base_uri": "https://localhost:8080/",
          "height": 622
        },
        "outputId": "b96d4f81-e59b-4156-c6b2-c930b0089f82"
      },
      "execution_count": null,
      "outputs": [
        {
          "output_type": "execute_result",
          "data": {
            "text/plain": [
              "[Text(0.625, 0.875, 'X[5] <= 2.5\\ngini = 0.451\\nsamples = 1157\\nvalue = [247, 50, 818, 42]'),\n",
              " Text(0.5, 0.625, 'X[3] <= 2.5\\ngini = 0.583\\nsamples = 753\\nvalue = [247, 50, 414, 42]'),\n",
              " Text(0.25, 0.375, 'X[3] <= 1.5\\ngini = 0.48\\nsamples = 495\\nvalue = [117, 23, 336, 19]'),\n",
              " Text(0.125, 0.125, 'gini = 0.634\\nsamples = 243\\nvalue = [117, 23, 84, 19]'),\n",
              " Text(0.375, 0.125, 'gini = 0.0\\nsamples = 252\\nvalue = [0, 0, 252, 0]'),\n",
              " Text(0.75, 0.375, 'X[1] <= 2.5\\ngini = 0.636\\nsamples = 258\\nvalue = [130, 27, 78, 23]'),\n",
              " Text(0.625, 0.125, 'gini = 0.537\\nsamples = 120\\nvalue = [54, 0, 61, 5]'),\n",
              " Text(0.875, 0.125, 'gini = 0.626\\nsamples = 138\\nvalue = [76, 27, 17, 18]'),\n",
              " Text(0.75, 0.625, 'gini = 0.0\\nsamples = 404\\nvalue = [0, 0, 404, 0]')]"
            ]
          },
          "metadata": {},
          "execution_count": 29
        },
        {
          "output_type": "display_data",
          "data": {
            "text/plain": [
              "<Figure size 864x576 with 1 Axes>"
            ],
            "image/png": "[encoded data removed]"
          },
          "metadata": {
            "needs_background": "light"
          }
        }
      ]
    },
    {
      "cell_type": "code",
      "source": [
        "import graphviz \n",
        "dot_data = tree.export_graphviz(clf_gini, out_file=None, \n",
        "                              feature_names=X_train.columns,  \n",
        "                              class_names=y_train,  \n",
        "                              filled=True, rounded=True,  \n",
        "                              special_characters=True)\n",
        "\n",
        "graph = graphviz.Source(dot_data) \n",
        "\n",
        "graph"
      ],
      "metadata": {
        "id": "Er4cQIXMMdOZ",
        "colab": {
          "base_uri": "https://localhost:8080/",
          "height": 599
        },
        "outputId": "cf010cb0-24f5-4c41-cc2d-a78bff4305da"
      },
      "execution_count": null,
      "outputs": [
        {
          "output_type": "execute_result",
          "data": {
            "text/plain": [
              "<graphviz.files.Source at 0x7f63b6885160>"
            ],
            "image/svg+xml": "<?xml version=\"1.0\" encoding=\"UTF-8\" standalone=\"no\"?>\n<!DOCTYPE svg PUBLIC \"-//W3C//DTD SVG 1.1//EN\"\n \"http://www.w3.org/Graphics/SVG/1.1/DTD/svg11.dtd\">\n<!-- Generated by graphviz version 2.43.0 (0)\n -->\n<!-- Title: Tree Pages: 1 -->\n<svg width=\"673pt\" height=\"433pt\"\n viewBox=\"0.00 0.00 672.50 433.00\" xmlns=\"http://www.w3.org/2000/svg\" xmlns:xlink=\"http://www.w3.org/1999/xlink\">\n<g id=\"graph0\" class=\"graph\" transform=\"scale(1 1) rotate(0) translate(4 429)\">\n<title>Tree</title>\n<polygon fill=\"white\" stroke=\"transparent\" points=\"-4,4 -4,-429 668.5,-429 668.5,4 -4,4\"/>\n<!-- 0 -->\n<g id=\"node1\" class=\"node\">\n<title>0</title>\n<path fill=\"#83c2ef\" stroke=\"black\" d=\"M494,-425C494,-425 348,-425 348,-425 342,-425 336,-419 336,-413 336,-413 336,-354 336,-354 336,-348 342,-342 348,-342 348,-342 494,-342 494,-342 500,-342 506,-348 506,-354 506,-354 506,-413 506,-413 506,-419 500,-425 494,-425\"/>\n<text text-anchor=\"start\" x=\"386\" y=\"-409.8\" font-family=\"Helvetica,sans-Serif\" font-size=\"14.00\">safety ≤ 2.5</text>\n<text text-anchor=\"start\" x=\"385.5\" y=\"-394.8\" font-family=\"Helvetica,sans-Serif\" font-size=\"14.00\">gini = 0.451</text>\n<text text-anchor=\"start\" x=\"372.5\" y=\"-379.8\" font-family=\"Helvetica,sans-Serif\" font-size=\"14.00\">samples = 1157</text>\n<text text-anchor=\"start\" x=\"344\" y=\"-364.8\" font-family=\"Helvetica,sans-Serif\" font-size=\"14.00\">value = [247, 50, 818, 42]</text>\n<text text-anchor=\"start\" x=\"379.5\" y=\"-349.8\" font-family=\"Helvetica,sans-Serif\" font-size=\"14.00\">class = unacc</text>\n</g>\n<!-- 1 -->\n<g id=\"node2\" class=\"node\">\n<title>1</title>\n<path fill=\"#bedff6\" stroke=\"black\" d=\"M408,-306C408,-306 262,-306 262,-306 256,-306 250,-300 250,-294 250,-294 250,-235 250,-235 250,-229 256,-223 262,-223 262,-223 408,-223 408,-223 414,-223 420,-229 420,-235 420,-235 420,-294 420,-294 420,-300 414,-306 408,-306\"/>\n<text text-anchor=\"start\" x=\"261\" y=\"-290.8\" font-family=\"Helvetica,sans-Serif\" font-size=\"14.00\">number of persons ≤ 2.5</text>\n<text text-anchor=\"start\" x=\"299.5\" y=\"-275.8\" font-family=\"Helvetica,sans-Serif\" font-size=\"14.00\">gini = 0.583</text>\n<text text-anchor=\"start\" x=\"290\" y=\"-260.8\" font-family=\"Helvetica,sans-Serif\" font-size=\"14.00\">samples = 753</text>\n<text text-anchor=\"start\" x=\"258\" y=\"-245.8\" font-family=\"Helvetica,sans-Serif\" font-size=\"14.00\">value = [247, 50, 414, 42]</text>\n<text text-anchor=\"start\" x=\"293.5\" y=\"-230.8\" font-family=\"Helvetica,sans-Serif\" font-size=\"14.00\">class = unacc</text>\n</g>\n<!-- 0&#45;&gt;1 -->\n<g id=\"edge1\" class=\"edge\">\n<title>0&#45;&gt;1</title>\n<path fill=\"none\" stroke=\"black\" d=\"M391.16,-341.91C384.63,-333.01 377.64,-323.51 370.89,-314.33\"/>\n<polygon fill=\"black\" stroke=\"black\" points=\"373.53,-312.01 364.78,-306.02 367.89,-316.15 373.53,-312.01\"/>\n<text text-anchor=\"middle\" x=\"361.01\" y=\"-327.03\" font-family=\"Helvetica,sans-Serif\" font-size=\"14.00\">True</text>\n</g>\n<!-- 8 -->\n<g id=\"node9\" class=\"node\">\n<title>8</title>\n<path fill=\"#399de5\" stroke=\"black\" d=\"M566,-298.5C566,-298.5 450,-298.5 450,-298.5 444,-298.5 438,-292.5 438,-286.5 438,-286.5 438,-242.5 438,-242.5 438,-236.5 444,-230.5 450,-230.5 450,-230.5 566,-230.5 566,-230.5 572,-230.5 578,-236.5 578,-242.5 578,-242.5 578,-286.5 578,-286.5 578,-292.5 572,-298.5 566,-298.5\"/>\n<text text-anchor=\"start\" x=\"480\" y=\"-283.3\" font-family=\"Helvetica,sans-Serif\" font-size=\"14.00\">gini = 0.0</text>\n<text text-anchor=\"start\" x=\"463\" y=\"-268.3\" font-family=\"Helvetica,sans-Serif\" font-size=\"14.00\">samples = 404</text>\n<text text-anchor=\"start\" x=\"446\" y=\"-253.3\" font-family=\"Helvetica,sans-Serif\" font-size=\"14.00\">value = [0, 0, 404, 0]</text>\n<text text-anchor=\"start\" x=\"466.5\" y=\"-238.3\" font-family=\"Helvetica,sans-Serif\" font-size=\"14.00\">class = unacc</text>\n</g>\n<!-- 0&#45;&gt;8 -->\n<g id=\"edge8\" class=\"edge\">\n<title>0&#45;&gt;8</title>\n<path fill=\"none\" stroke=\"black\" d=\"M451.18,-341.91C459.64,-330.54 468.83,-318.18 477.31,-306.77\"/>\n<polygon fill=\"black\" stroke=\"black\" points=\"480.18,-308.78 483.34,-298.67 474.56,-304.6 480.18,-308.78\"/>\n<text text-anchor=\"middle\" x=\"486.97\" y=\"-319.7\" font-family=\"Helvetica,sans-Serif\" font-size=\"14.00\">False</text>\n</g>\n<!-- 2 -->\n<g id=\"node3\" class=\"node\">\n<title>2</title>\n<path fill=\"#8cc6f0\" stroke=\"black\" d=\"M316,-187C316,-187 170,-187 170,-187 164,-187 158,-181 158,-175 158,-175 158,-116 158,-116 158,-110 164,-104 170,-104 170,-104 316,-104 316,-104 322,-104 328,-110 328,-116 328,-116 328,-175 328,-175 328,-181 322,-187 316,-187\"/>\n<text text-anchor=\"start\" x=\"169\" y=\"-171.8\" font-family=\"Helvetica,sans-Serif\" font-size=\"14.00\">number of persons ≤ 1.5</text>\n<text text-anchor=\"start\" x=\"211\" y=\"-156.8\" font-family=\"Helvetica,sans-Serif\" font-size=\"14.00\">gini = 0.48</text>\n<text text-anchor=\"start\" x=\"198\" y=\"-141.8\" font-family=\"Helvetica,sans-Serif\" font-size=\"14.00\">samples = 495</text>\n<text text-anchor=\"start\" x=\"166\" y=\"-126.8\" font-family=\"Helvetica,sans-Serif\" font-size=\"14.00\">value = [117, 23, 336, 19]</text>\n<text text-anchor=\"start\" x=\"201.5\" y=\"-111.8\" font-family=\"Helvetica,sans-Serif\" font-size=\"14.00\">class = unacc</text>\n</g>\n<!-- 1&#45;&gt;2 -->\n<g id=\"edge2\" class=\"edge\">\n<title>1&#45;&gt;2</title>\n<path fill=\"none\" stroke=\"black\" d=\"M303.08,-222.91C296.02,-213.92 288.46,-204.32 281.18,-195.05\"/>\n<polygon fill=\"black\" stroke=\"black\" points=\"283.8,-192.72 274.86,-187.02 278.29,-197.05 283.8,-192.72\"/>\n</g>\n<!-- 5 -->\n<g id=\"node6\" class=\"node\">\n<title>5</title>\n<path fill=\"#f7dbc6\" stroke=\"black\" d=\"M496,-187C496,-187 358,-187 358,-187 352,-187 346,-181 346,-175 346,-175 346,-116 346,-116 346,-110 352,-104 358,-104 358,-104 496,-104 496,-104 502,-104 508,-110 508,-116 508,-116 508,-175 508,-175 508,-181 502,-187 496,-187\"/>\n<text text-anchor=\"start\" x=\"356.5\" y=\"-171.8\" font-family=\"Helvetica,sans-Serif\" font-size=\"14.00\">maintenance cost ≤ 2.5</text>\n<text text-anchor=\"start\" x=\"391.5\" y=\"-156.8\" font-family=\"Helvetica,sans-Serif\" font-size=\"14.00\">gini = 0.636</text>\n<text text-anchor=\"start\" x=\"382\" y=\"-141.8\" font-family=\"Helvetica,sans-Serif\" font-size=\"14.00\">samples = 258</text>\n<text text-anchor=\"start\" x=\"354\" y=\"-126.8\" font-family=\"Helvetica,sans-Serif\" font-size=\"14.00\">value = [130, 27, 78, 23]</text>\n<text text-anchor=\"start\" x=\"385.5\" y=\"-111.8\" font-family=\"Helvetica,sans-Serif\" font-size=\"14.00\">class = unacc</text>\n</g>\n<!-- 1&#45;&gt;5 -->\n<g id=\"edge5\" class=\"edge\">\n<title>1&#45;&gt;5</title>\n<path fill=\"none\" stroke=\"black\" d=\"M366.92,-222.91C373.98,-213.92 381.54,-204.32 388.82,-195.05\"/>\n<polygon fill=\"black\" stroke=\"black\" points=\"391.71,-197.05 395.14,-187.02 386.2,-192.72 391.71,-197.05\"/>\n</g>\n<!-- 3 -->\n<g id=\"node4\" class=\"node\">\n<title>3</title>\n<path fill=\"#fae5d6\" stroke=\"black\" d=\"M150,-68C150,-68 12,-68 12,-68 6,-68 0,-62 0,-56 0,-56 0,-12 0,-12 0,-6 6,0 12,0 12,0 150,0 150,0 156,0 162,-6 162,-12 162,-12 162,-56 162,-56 162,-62 156,-68 150,-68\"/>\n<text text-anchor=\"start\" x=\"45.5\" y=\"-52.8\" font-family=\"Helvetica,sans-Serif\" font-size=\"14.00\">gini = 0.634</text>\n<text text-anchor=\"start\" x=\"36\" y=\"-37.8\" font-family=\"Helvetica,sans-Serif\" font-size=\"14.00\">samples = 243</text>\n<text text-anchor=\"start\" x=\"8\" y=\"-22.8\" font-family=\"Helvetica,sans-Serif\" font-size=\"14.00\">value = [117, 23, 84, 19]</text>\n<text text-anchor=\"start\" x=\"39.5\" y=\"-7.8\" font-family=\"Helvetica,sans-Serif\" font-size=\"14.00\">class = unacc</text>\n</g>\n<!-- 2&#45;&gt;3 -->\n<g id=\"edge3\" class=\"edge\">\n<title>2&#45;&gt;3</title>\n<path fill=\"none\" stroke=\"black\" d=\"M182.68,-103.73C168.16,-93.92 152.7,-83.46 138.33,-73.75\"/>\n<polygon fill=\"black\" stroke=\"black\" points=\"140.25,-70.83 130.01,-68.13 136.33,-76.62 140.25,-70.83\"/>\n</g>\n<!-- 4 -->\n<g id=\"node5\" class=\"node\">\n<title>4</title>\n<path fill=\"#399de5\" stroke=\"black\" d=\"M308,-68C308,-68 192,-68 192,-68 186,-68 180,-62 180,-56 180,-56 180,-12 180,-12 180,-6 186,0 192,0 192,0 308,0 308,0 314,0 320,-6 320,-12 320,-12 320,-56 320,-56 320,-62 314,-68 308,-68\"/>\n<text text-anchor=\"start\" x=\"222\" y=\"-52.8\" font-family=\"Helvetica,sans-Serif\" font-size=\"14.00\">gini = 0.0</text>\n<text text-anchor=\"start\" x=\"205\" y=\"-37.8\" font-family=\"Helvetica,sans-Serif\" font-size=\"14.00\">samples = 252</text>\n<text text-anchor=\"start\" x=\"188\" y=\"-22.8\" font-family=\"Helvetica,sans-Serif\" font-size=\"14.00\">value = [0, 0, 252, 0]</text>\n<text text-anchor=\"start\" x=\"208.5\" y=\"-7.8\" font-family=\"Helvetica,sans-Serif\" font-size=\"14.00\">class = unacc</text>\n</g>\n<!-- 2&#45;&gt;4 -->\n<g id=\"edge4\" class=\"edge\">\n<title>2&#45;&gt;4</title>\n<path fill=\"none\" stroke=\"black\" d=\"M245.61,-103.73C246.14,-95.43 246.7,-86.67 247.23,-78.28\"/>\n<polygon fill=\"black\" stroke=\"black\" points=\"250.73,-78.5 247.87,-68.3 243.74,-78.06 250.73,-78.5\"/>\n</g>\n<!-- 6 -->\n<g id=\"node7\" class=\"node\">\n<title>6</title>\n<path fill=\"#eaf5fc\" stroke=\"black\" d=\"M479,-68C479,-68 363,-68 363,-68 357,-68 351,-62 351,-56 351,-56 351,-12 351,-12 351,-6 357,0 363,0 363,0 479,0 479,0 485,0 491,-6 491,-12 491,-12 491,-56 491,-56 491,-62 485,-68 479,-68\"/>\n<text text-anchor=\"start\" x=\"385.5\" y=\"-52.8\" font-family=\"Helvetica,sans-Serif\" font-size=\"14.00\">gini = 0.537</text>\n<text text-anchor=\"start\" x=\"376\" y=\"-37.8\" font-family=\"Helvetica,sans-Serif\" font-size=\"14.00\">samples = 120</text>\n<text text-anchor=\"start\" x=\"359\" y=\"-22.8\" font-family=\"Helvetica,sans-Serif\" font-size=\"14.00\">value = [54, 0, 61, 5]</text>\n<text text-anchor=\"start\" x=\"379.5\" y=\"-7.8\" font-family=\"Helvetica,sans-Serif\" font-size=\"14.00\">class = unacc</text>\n</g>\n<!-- 5&#45;&gt;6 -->\n<g id=\"edge6\" class=\"edge\">\n<title>5&#45;&gt;6</title>\n<path fill=\"none\" stroke=\"black\" d=\"M424.77,-103.73C424.32,-95.52 423.84,-86.86 423.39,-78.56\"/>\n<polygon fill=\"black\" stroke=\"black\" points=\"426.87,-78.09 422.82,-68.3 419.88,-78.48 426.87,-78.09\"/>\n</g>\n<!-- 7 -->\n<g id=\"node8\" class=\"node\">\n<title>7</title>\n<path fill=\"#f4c7a8\" stroke=\"black\" d=\"M652.5,-68C652.5,-68 521.5,-68 521.5,-68 515.5,-68 509.5,-62 509.5,-56 509.5,-56 509.5,-12 509.5,-12 509.5,-6 515.5,0 521.5,0 521.5,0 652.5,0 652.5,0 658.5,0 664.5,-6 664.5,-12 664.5,-12 664.5,-56 664.5,-56 664.5,-62 658.5,-68 652.5,-68\"/>\n<text text-anchor=\"start\" x=\"551.5\" y=\"-52.8\" font-family=\"Helvetica,sans-Serif\" font-size=\"14.00\">gini = 0.626</text>\n<text text-anchor=\"start\" x=\"542\" y=\"-37.8\" font-family=\"Helvetica,sans-Serif\" font-size=\"14.00\">samples = 138</text>\n<text text-anchor=\"start\" x=\"517.5\" y=\"-22.8\" font-family=\"Helvetica,sans-Serif\" font-size=\"14.00\">value = [76, 27, 17, 18]</text>\n<text text-anchor=\"start\" x=\"545.5\" y=\"-7.8\" font-family=\"Helvetica,sans-Serif\" font-size=\"14.00\">class = unacc</text>\n</g>\n<!-- 5&#45;&gt;7 -->\n<g id=\"edge7\" class=\"edge\">\n<title>5&#45;&gt;7</title>\n<path fill=\"none\" stroke=\"black\" d=\"M486.58,-103.73C500.78,-94.01 515.9,-83.66 529.98,-74.02\"/>\n<polygon fill=\"black\" stroke=\"black\" points=\"532.32,-76.66 538.6,-68.13 528.37,-70.88 532.32,-76.66\"/>\n</g>\n</g>\n</svg>\n"
          },
          "metadata": {},
          "execution_count": 30
        }
      ]
    },
    {
      "cell_type": "code",
      "source": [
        "# instantiate the DecisionTreeClassifier model with criterion entropy\n",
        "clf_en = DecisionTreeClassifier(criterion='entropy', max_depth=3, random_state=0)\n",
        "# fit the model\n",
        "plt.figure(figsize=(12,8))\n",
        "from sklearn import tree\n",
        "tree.plot_tree(clf_en.fit(X_train, y_train)) "
      ],
      "metadata": {
        "id": "Ql864ra1OtsG",
        "colab": {
          "base_uri": "https://localhost:8080/",
          "height": 622
        },
        "outputId": "cb596417-ac4d-4f37-aba7-79473e6f65e7"
      },
      "execution_count": null,
      "outputs": [
        {
          "output_type": "execute_result",
          "data": {
            "text/plain": [
              "[Text(0.625, 0.875, 'X[5] <= 2.5\\nentropy = 1.199\\nsamples = 1157\\nvalue = [247, 50, 818, 42]'),\n",
              " Text(0.5, 0.625, 'X[1] <= 2.5\\nentropy = 1.494\\nsamples = 753\\nvalue = [247, 50, 414, 42]'),\n",
              " Text(0.25, 0.375, 'X[0] <= 3.5\\nentropy = 1.031\\nsamples = 369\\nvalue = [106, 0, 253, 10]'),\n",
              " Text(0.125, 0.125, 'entropy = 0.947\\nsamples = 269\\nvalue = [55, 0, 204, 10]'),\n",
              " Text(0.375, 0.125, 'entropy = 1.0\\nsamples = 100\\nvalue = [51, 0, 49, 0]'),\n",
              " Text(0.75, 0.375, 'X[3] <= 2.5\\nentropy = 1.738\\nsamples = 384\\nvalue = [141, 50, 161, 32]'),\n",
              " Text(0.625, 0.125, 'entropy = 1.515\\nsamples = 246\\nvalue = [65, 23, 144, 14]'),\n",
              " Text(0.875, 0.125, 'entropy = 1.69\\nsamples = 138\\nvalue = [76, 27, 17, 18]'),\n",
              " Text(0.75, 0.625, 'entropy = 0.0\\nsamples = 404\\nvalue = [0, 0, 404, 0]')]"
            ]
          },
          "metadata": {},
          "execution_count": 31
        },
        {
          "output_type": "display_data",
          "data": {
            "text/plain": [
              "<Figure size 864x576 with 1 Axes>"
            ],
            "image/png": "[encoded data removed]"
          },
          "metadata": {
            "needs_background": "light"
          }
        }
      ]
    },
    {
      "cell_type": "code",
      "source": [
        "import graphviz \n",
        "dot_data = tree.export_graphviz(clf_en, out_file=None, \n",
        "                              feature_names=X_train.columns,  \n",
        "                              class_names=y_train,  \n",
        "                              filled=True, rounded=True,  \n",
        "                              special_characters=True)\n",
        "\n",
        "graph = graphviz.Source(dot_data) \n",
        "\n",
        "graph"
      ],
      "metadata": {
        "id": "by5n1pUbO1py",
        "colab": {
          "base_uri": "https://localhost:8080/",
          "height": 599
        },
        "outputId": "147a6bc2-b95f-4bc8-f89a-e0ef9384b74c"
      },
      "execution_count": null,
      "outputs": [
        {
          "output_type": "execute_result",
          "data": {
            "text/plain": [
              "<graphviz.files.Source at 0x7f63b6327af0>"
            ],
            "image/svg+xml": "<?xml version=\"1.0\" encoding=\"UTF-8\" standalone=\"no\"?>\n<!DOCTYPE svg PUBLIC \"-//W3C//DTD SVG 1.1//EN\"\n \"http://www.w3.org/Graphics/SVG/1.1/DTD/svg11.dtd\">\n<!-- Generated by graphviz version 2.43.0 (0)\n -->\n<!-- Title: Tree Pages: 1 -->\n<svg width=\"682pt\" height=\"433pt\"\n viewBox=\"0.00 0.00 682.00 433.00\" xmlns=\"http://www.w3.org/2000/svg\" xmlns:xlink=\"http://www.w3.org/1999/xlink\">\n<g id=\"graph0\" class=\"graph\" transform=\"scale(1 1) rotate(0) translate(4 429)\">\n<title>Tree</title>\n<polygon fill=\"white\" stroke=\"transparent\" points=\"-4,4 -4,-429 678,-429 678,4 -4,4\"/>\n<!-- 0 -->\n<g id=\"node1\" class=\"node\">\n<title>0</title>\n<path fill=\"#83c2ef\" stroke=\"black\" d=\"M490.5,-425C490.5,-425 344.5,-425 344.5,-425 338.5,-425 332.5,-419 332.5,-413 332.5,-413 332.5,-354 332.5,-354 332.5,-348 338.5,-342 344.5,-342 344.5,-342 490.5,-342 490.5,-342 496.5,-342 502.5,-348 502.5,-354 502.5,-354 502.5,-413 502.5,-413 502.5,-419 496.5,-425 490.5,-425\"/>\n<text text-anchor=\"start\" x=\"382.5\" y=\"-409.8\" font-family=\"Helvetica,sans-Serif\" font-size=\"14.00\">safety ≤ 2.5</text>\n<text text-anchor=\"start\" x=\"370\" y=\"-394.8\" font-family=\"Helvetica,sans-Serif\" font-size=\"14.00\">entropy = 1.199</text>\n<text text-anchor=\"start\" x=\"369\" y=\"-379.8\" font-family=\"Helvetica,sans-Serif\" font-size=\"14.00\">samples = 1157</text>\n<text text-anchor=\"start\" x=\"340.5\" y=\"-364.8\" font-family=\"Helvetica,sans-Serif\" font-size=\"14.00\">value = [247, 50, 818, 42]</text>\n<text text-anchor=\"start\" x=\"376\" y=\"-349.8\" font-family=\"Helvetica,sans-Serif\" font-size=\"14.00\">class = unacc</text>\n</g>\n<!-- 1 -->\n<g id=\"node2\" class=\"node\">\n<title>1</title>\n<path fill=\"#bedff6\" stroke=\"black\" d=\"M404.5,-306C404.5,-306 258.5,-306 258.5,-306 252.5,-306 246.5,-300 246.5,-294 246.5,-294 246.5,-235 246.5,-235 246.5,-229 252.5,-223 258.5,-223 258.5,-223 404.5,-223 404.5,-223 410.5,-223 416.5,-229 416.5,-235 416.5,-235 416.5,-294 416.5,-294 416.5,-300 410.5,-306 404.5,-306\"/>\n<text text-anchor=\"start\" x=\"261\" y=\"-290.8\" font-family=\"Helvetica,sans-Serif\" font-size=\"14.00\">maintenance cost ≤ 2.5</text>\n<text text-anchor=\"start\" x=\"284\" y=\"-275.8\" font-family=\"Helvetica,sans-Serif\" font-size=\"14.00\">entropy = 1.494</text>\n<text text-anchor=\"start\" x=\"286.5\" y=\"-260.8\" font-family=\"Helvetica,sans-Serif\" font-size=\"14.00\">samples = 753</text>\n<text text-anchor=\"start\" x=\"254.5\" y=\"-245.8\" font-family=\"Helvetica,sans-Serif\" font-size=\"14.00\">value = [247, 50, 414, 42]</text>\n<text text-anchor=\"start\" x=\"290\" y=\"-230.8\" font-family=\"Helvetica,sans-Serif\" font-size=\"14.00\">class = unacc</text>\n</g>\n<!-- 0&#45;&gt;1 -->\n<g id=\"edge1\" class=\"edge\">\n<title>0&#45;&gt;1</title>\n<path fill=\"none\" stroke=\"black\" d=\"M387.66,-341.91C381.13,-333.01 374.14,-323.51 367.39,-314.33\"/>\n<polygon fill=\"black\" stroke=\"black\" points=\"370.03,-312.01 361.28,-306.02 364.39,-316.15 370.03,-312.01\"/>\n<text text-anchor=\"middle\" x=\"357.51\" y=\"-327.03\" font-family=\"Helvetica,sans-Serif\" font-size=\"14.00\">True</text>\n</g>\n<!-- 8 -->\n<g id=\"node9\" class=\"node\">\n<title>8</title>\n<path fill=\"#399de5\" stroke=\"black\" d=\"M562.5,-298.5C562.5,-298.5 446.5,-298.5 446.5,-298.5 440.5,-298.5 434.5,-292.5 434.5,-286.5 434.5,-286.5 434.5,-242.5 434.5,-242.5 434.5,-236.5 440.5,-230.5 446.5,-230.5 446.5,-230.5 562.5,-230.5 562.5,-230.5 568.5,-230.5 574.5,-236.5 574.5,-242.5 574.5,-242.5 574.5,-286.5 574.5,-286.5 574.5,-292.5 568.5,-298.5 562.5,-298.5\"/>\n<text text-anchor=\"start\" x=\"464.5\" y=\"-283.3\" font-family=\"Helvetica,sans-Serif\" font-size=\"14.00\">entropy = 0.0</text>\n<text text-anchor=\"start\" x=\"459.5\" y=\"-268.3\" font-family=\"Helvetica,sans-Serif\" font-size=\"14.00\">samples = 404</text>\n<text text-anchor=\"start\" x=\"442.5\" y=\"-253.3\" font-family=\"Helvetica,sans-Serif\" font-size=\"14.00\">value = [0, 0, 404, 0]</text>\n<text text-anchor=\"start\" x=\"463\" y=\"-238.3\" font-family=\"Helvetica,sans-Serif\" font-size=\"14.00\">class = unacc</text>\n</g>\n<!-- 0&#45;&gt;8 -->\n<g id=\"edge8\" class=\"edge\">\n<title>0&#45;&gt;8</title>\n<path fill=\"none\" stroke=\"black\" d=\"M447.68,-341.91C456.14,-330.54 465.33,-318.18 473.81,-306.77\"/>\n<polygon fill=\"black\" stroke=\"black\" points=\"476.68,-308.78 479.84,-298.67 471.06,-304.6 476.68,-308.78\"/>\n<text text-anchor=\"middle\" x=\"483.47\" y=\"-319.7\" font-family=\"Helvetica,sans-Serif\" font-size=\"14.00\">False</text>\n</g>\n<!-- 2 -->\n<g id=\"node3\" class=\"node\">\n<title>2</title>\n<path fill=\"#90c8f0\" stroke=\"black\" d=\"M308.5,-187C308.5,-187 170.5,-187 170.5,-187 164.5,-187 158.5,-181 158.5,-175 158.5,-175 158.5,-116 158.5,-116 158.5,-110 164.5,-104 170.5,-104 170.5,-104 308.5,-104 308.5,-104 314.5,-104 320.5,-110 320.5,-116 320.5,-116 320.5,-175 320.5,-175 320.5,-181 314.5,-187 308.5,-187\"/>\n<text text-anchor=\"start\" x=\"186\" y=\"-171.8\" font-family=\"Helvetica,sans-Serif\" font-size=\"14.00\">buying price ≤ 3.5</text>\n<text text-anchor=\"start\" x=\"192\" y=\"-156.8\" font-family=\"Helvetica,sans-Serif\" font-size=\"14.00\">entropy = 1.031</text>\n<text text-anchor=\"start\" x=\"194.5\" y=\"-141.8\" font-family=\"Helvetica,sans-Serif\" font-size=\"14.00\">samples = 369</text>\n<text text-anchor=\"start\" x=\"166.5\" y=\"-126.8\" font-family=\"Helvetica,sans-Serif\" font-size=\"14.00\">value = [106, 0, 253, 10]</text>\n<text text-anchor=\"start\" x=\"198\" y=\"-111.8\" font-family=\"Helvetica,sans-Serif\" font-size=\"14.00\">class = unacc</text>\n</g>\n<!-- 1&#45;&gt;2 -->\n<g id=\"edge2\" class=\"edge\">\n<title>1&#45;&gt;2</title>\n<path fill=\"none\" stroke=\"black\" d=\"M299.58,-222.91C292.52,-213.92 284.96,-204.32 277.68,-195.05\"/>\n<polygon fill=\"black\" stroke=\"black\" points=\"280.3,-192.72 271.36,-187.02 274.79,-197.05 280.3,-192.72\"/>\n</g>\n<!-- 5 -->\n<g id=\"node6\" class=\"node\">\n<title>5</title>\n<path fill=\"#eff7fd\" stroke=\"black\" d=\"M496.5,-187C496.5,-187 350.5,-187 350.5,-187 344.5,-187 338.5,-181 338.5,-175 338.5,-175 338.5,-116 338.5,-116 338.5,-110 344.5,-104 350.5,-104 350.5,-104 496.5,-104 496.5,-104 502.5,-104 508.5,-110 508.5,-116 508.5,-116 508.5,-175 508.5,-175 508.5,-181 502.5,-187 496.5,-187\"/>\n<text text-anchor=\"start\" x=\"349.5\" y=\"-171.8\" font-family=\"Helvetica,sans-Serif\" font-size=\"14.00\">number of persons ≤ 2.5</text>\n<text text-anchor=\"start\" x=\"376\" y=\"-156.8\" font-family=\"Helvetica,sans-Serif\" font-size=\"14.00\">entropy = 1.738</text>\n<text text-anchor=\"start\" x=\"378.5\" y=\"-141.8\" font-family=\"Helvetica,sans-Serif\" font-size=\"14.00\">samples = 384</text>\n<text text-anchor=\"start\" x=\"346.5\" y=\"-126.8\" font-family=\"Helvetica,sans-Serif\" font-size=\"14.00\">value = [141, 50, 161, 32]</text>\n<text text-anchor=\"start\" x=\"382\" y=\"-111.8\" font-family=\"Helvetica,sans-Serif\" font-size=\"14.00\">class = unacc</text>\n</g>\n<!-- 1&#45;&gt;5 -->\n<g id=\"edge5\" class=\"edge\">\n<title>1&#45;&gt;5</title>\n<path fill=\"none\" stroke=\"black\" d=\"M363.42,-222.91C370.48,-213.92 378.04,-204.32 385.32,-195.05\"/>\n<polygon fill=\"black\" stroke=\"black\" points=\"388.21,-197.05 391.64,-187.02 382.7,-192.72 388.21,-197.05\"/>\n</g>\n<!-- 3 -->\n<g id=\"node4\" class=\"node\">\n<title>3</title>\n<path fill=\"#75bbed\" stroke=\"black\" d=\"M143,-68C143,-68 12,-68 12,-68 6,-68 0,-62 0,-56 0,-56 0,-12 0,-12 0,-6 6,0 12,0 12,0 143,0 143,0 149,0 155,-6 155,-12 155,-12 155,-56 155,-56 155,-62 149,-68 143,-68\"/>\n<text text-anchor=\"start\" x=\"30\" y=\"-52.8\" font-family=\"Helvetica,sans-Serif\" font-size=\"14.00\">entropy = 0.947</text>\n<text text-anchor=\"start\" x=\"32.5\" y=\"-37.8\" font-family=\"Helvetica,sans-Serif\" font-size=\"14.00\">samples = 269</text>\n<text text-anchor=\"start\" x=\"8\" y=\"-22.8\" font-family=\"Helvetica,sans-Serif\" font-size=\"14.00\">value = [55, 0, 204, 10]</text>\n<text text-anchor=\"start\" x=\"36\" y=\"-7.8\" font-family=\"Helvetica,sans-Serif\" font-size=\"14.00\">class = unacc</text>\n</g>\n<!-- 2&#45;&gt;3 -->\n<g id=\"edge3\" class=\"edge\">\n<title>2&#45;&gt;3</title>\n<path fill=\"none\" stroke=\"black\" d=\"M179.18,-103.73C164.66,-93.92 149.2,-83.46 134.83,-73.75\"/>\n<polygon fill=\"black\" stroke=\"black\" points=\"136.75,-70.83 126.51,-68.13 132.83,-76.62 136.75,-70.83\"/>\n</g>\n<!-- 4 -->\n<g id=\"node5\" class=\"node\">\n<title>4</title>\n<path fill=\"#fefaf7\" stroke=\"black\" d=\"M301.5,-68C301.5,-68 185.5,-68 185.5,-68 179.5,-68 173.5,-62 173.5,-56 173.5,-56 173.5,-12 173.5,-12 173.5,-6 179.5,0 185.5,0 185.5,0 301.5,0 301.5,0 307.5,0 313.5,-6 313.5,-12 313.5,-12 313.5,-56 313.5,-56 313.5,-62 307.5,-68 301.5,-68\"/>\n<text text-anchor=\"start\" x=\"203.5\" y=\"-52.8\" font-family=\"Helvetica,sans-Serif\" font-size=\"14.00\">entropy = 1.0</text>\n<text text-anchor=\"start\" x=\"198.5\" y=\"-37.8\" font-family=\"Helvetica,sans-Serif\" font-size=\"14.00\">samples = 100</text>\n<text text-anchor=\"start\" x=\"181.5\" y=\"-22.8\" font-family=\"Helvetica,sans-Serif\" font-size=\"14.00\">value = [51, 0, 49, 0]</text>\n<text text-anchor=\"start\" x=\"202\" y=\"-7.8\" font-family=\"Helvetica,sans-Serif\" font-size=\"14.00\">class = unacc</text>\n</g>\n<!-- 2&#45;&gt;4 -->\n<g id=\"edge4\" class=\"edge\">\n<title>2&#45;&gt;4</title>\n<path fill=\"none\" stroke=\"black\" d=\"M240.99,-103.73C241.29,-95.52 241.61,-86.86 241.91,-78.56\"/>\n<polygon fill=\"black\" stroke=\"black\" points=\"245.42,-78.42 242.28,-68.3 238.42,-78.17 245.42,-78.42\"/>\n</g>\n<!-- 6 -->\n<g id=\"node7\" class=\"node\">\n<title>6</title>\n<path fill=\"#a9d4f4\" stroke=\"black\" d=\"M488.5,-68C488.5,-68 350.5,-68 350.5,-68 344.5,-68 338.5,-62 338.5,-56 338.5,-56 338.5,-12 338.5,-12 338.5,-6 344.5,0 350.5,0 350.5,0 488.5,0 488.5,0 494.5,0 500.5,-6 500.5,-12 500.5,-12 500.5,-56 500.5,-56 500.5,-62 494.5,-68 488.5,-68\"/>\n<text text-anchor=\"start\" x=\"372\" y=\"-52.8\" font-family=\"Helvetica,sans-Serif\" font-size=\"14.00\">entropy = 1.515</text>\n<text text-anchor=\"start\" x=\"374.5\" y=\"-37.8\" font-family=\"Helvetica,sans-Serif\" font-size=\"14.00\">samples = 246</text>\n<text text-anchor=\"start\" x=\"346.5\" y=\"-22.8\" font-family=\"Helvetica,sans-Serif\" font-size=\"14.00\">value = [65, 23, 144, 14]</text>\n<text text-anchor=\"start\" x=\"378\" y=\"-7.8\" font-family=\"Helvetica,sans-Serif\" font-size=\"14.00\">class = unacc</text>\n</g>\n<!-- 5&#45;&gt;6 -->\n<g id=\"edge6\" class=\"edge\">\n<title>5&#45;&gt;6</title>\n<path fill=\"none\" stroke=\"black\" d=\"M422.01,-103.73C421.71,-95.52 421.39,-86.86 421.09,-78.56\"/>\n<polygon fill=\"black\" stroke=\"black\" points=\"424.58,-78.17 420.72,-68.3 417.58,-78.42 424.58,-78.17\"/>\n</g>\n<!-- 7 -->\n<g id=\"node8\" class=\"node\">\n<title>7</title>\n<path fill=\"#f4c7a8\" stroke=\"black\" d=\"M662,-68C662,-68 531,-68 531,-68 525,-68 519,-62 519,-56 519,-56 519,-12 519,-12 519,-6 525,0 531,0 531,0 662,0 662,0 668,0 674,-6 674,-12 674,-12 674,-56 674,-56 674,-62 668,-68 662,-68\"/>\n<text text-anchor=\"start\" x=\"552.5\" y=\"-52.8\" font-family=\"Helvetica,sans-Serif\" font-size=\"14.00\">entropy = 1.69</text>\n<text text-anchor=\"start\" x=\"551.5\" y=\"-37.8\" font-family=\"Helvetica,sans-Serif\" font-size=\"14.00\">samples = 138</text>\n<text text-anchor=\"start\" x=\"527\" y=\"-22.8\" font-family=\"Helvetica,sans-Serif\" font-size=\"14.00\">value = [76, 27, 17, 18]</text>\n<text text-anchor=\"start\" x=\"555\" y=\"-7.8\" font-family=\"Helvetica,sans-Serif\" font-size=\"14.00\">class = unacc</text>\n</g>\n<!-- 5&#45;&gt;7 -->\n<g id=\"edge7\" class=\"edge\">\n<title>5&#45;&gt;7</title>\n<path fill=\"none\" stroke=\"black\" d=\"M487.92,-103.73C503.56,-93.82 520.24,-83.27 535.71,-73.48\"/>\n<polygon fill=\"black\" stroke=\"black\" points=\"537.59,-76.43 544.17,-68.13 533.84,-70.52 537.59,-76.43\"/>\n</g>\n</g>\n</svg>\n"
          },
          "metadata": {},
          "execution_count": 32
        }
      ]
    },
    {
      "cell_type": "code",
      "source": [],
      "metadata": {
        "id": "VM0C9oS2PDTh"
      },
      "execution_count": null,
      "outputs": []
    },
    {
      "cell_type": "code",
      "source": [
        "# instantiate the DecisionTreeClassifier model with criterion entropy\n",
        "clf_en = DecisionTreeClassifier(criterion='entropy', max_depth=3, random_state=0)\n",
        "# fit the model\n",
        "plt.figure(figsize=(12,8))\n",
        "from sklearn import tree\n",
        "tree.plot_tree(clf_en.fit(X_train, y_train)) "
      ],
      "metadata": {
        "id": "xP55_N6qXp2G",
        "outputId": "3f672baa-774d-4f6e-f066-4276928efdd2",
        "colab": {
          "base_uri": "https://localhost:8080/",
          "height": 622
        }
      },
      "execution_count": null,
      "outputs": [
        {
          "output_type": "execute_result",
          "data": {
            "text/plain": [
              "[Text(0.625, 0.875, 'X[5] <= 2.5\\nentropy = 1.199\\nsamples = 1157\\nvalue = [247, 50, 818, 42]'),\n",
              " Text(0.5, 0.625, 'X[1] <= 2.5\\nentropy = 1.494\\nsamples = 753\\nvalue = [247, 50, 414, 42]'),\n",
              " Text(0.25, 0.375, 'X[0] <= 3.5\\nentropy = 1.031\\nsamples = 369\\nvalue = [106, 0, 253, 10]'),\n",
              " Text(0.125, 0.125, 'entropy = 0.947\\nsamples = 269\\nvalue = [55, 0, 204, 10]'),\n",
              " Text(0.375, 0.125, 'entropy = 1.0\\nsamples = 100\\nvalue = [51, 0, 49, 0]'),\n",
              " Text(0.75, 0.375, 'X[3] <= 2.5\\nentropy = 1.738\\nsamples = 384\\nvalue = [141, 50, 161, 32]'),\n",
              " Text(0.625, 0.125, 'entropy = 1.515\\nsamples = 246\\nvalue = [65, 23, 144, 14]'),\n",
              " Text(0.875, 0.125, 'entropy = 1.69\\nsamples = 138\\nvalue = [76, 27, 17, 18]'),\n",
              " Text(0.75, 0.625, 'entropy = 0.0\\nsamples = 404\\nvalue = [0, 0, 404, 0]')]"
            ]
          },
          "metadata": {},
          "execution_count": 33
        },
        {
          "output_type": "display_data",
          "data": {
            "text/plain": [
              "<Figure size 864x576 with 1 Axes>"
            ],
            "image/png": "[encoded data removed]"
          },
          "metadata": {
            "needs_background": "light"
          }
        }
      ]
    },
    {
      "cell_type": "code",
      "source": [
        "import graphviz \n",
        "dot_data = tree.export_graphviz(clf_en, out_file=None, \n",
        "                              feature_names=X_train.columns,  \n",
        "                              class_names=y_train,  \n",
        "                              filled=True, rounded=True,  \n",
        "                              special_characters=True)\n",
        "\n",
        "graph = graphviz.Source(dot_data) \n",
        "\n",
        "graph"
      ],
      "metadata": {
        "id": "LBkgNPTHXp2K",
        "outputId": "54adfca8-bc29-4b86-da79-54825d658f69",
        "colab": {
          "base_uri": "https://localhost:8080/",
          "height": 599
        }
      },
      "execution_count": null,
      "outputs": [
        {
          "output_type": "execute_result",
          "data": {
            "text/plain": [
              "<graphviz.files.Source at 0x7f63b7286070>"
            ],
            "image/svg+xml": "<?xml version=\"1.0\" encoding=\"UTF-8\" standalone=\"no\"?>\n<!DOCTYPE svg PUBLIC \"-//W3C//DTD SVG 1.1//EN\"\n \"http://www.w3.org/Graphics/SVG/1.1/DTD/svg11.dtd\">\n<!-- Generated by graphviz version 2.43.0 (0)\n -->\n<!-- Title: Tree Pages: 1 -->\n<svg width=\"682pt\" height=\"433pt\"\n viewBox=\"0.00 0.00 682.00 433.00\" xmlns=\"http://www.w3.org/2000/svg\" xmlns:xlink=\"http://www.w3.org/1999/xlink\">\n<g id=\"graph0\" class=\"graph\" transform=\"scale(1 1) rotate(0) translate(4 429)\">\n<title>Tree</title>\n<polygon fill=\"white\" stroke=\"transparent\" points=\"-4,4 -4,-429 678,-429 678,4 -4,4\"/>\n<!-- 0 -->\n<g id=\"node1\" class=\"node\">\n<title>0</title>\n<path fill=\"#83c2ef\" stroke=\"black\" d=\"M490.5,-425C490.5,-425 344.5,-425 344.5,-425 338.5,-425 332.5,-419 332.5,-413 332.5,-413 332.5,-354 332.5,-354 332.5,-348 338.5,-342 344.5,-342 344.5,-342 490.5,-342 490.5,-342 496.5,-342 502.5,-348 502.5,-354 502.5,-354 502.5,-413 502.5,-413 502.5,-419 496.5,-425 490.5,-425\"/>\n<text text-anchor=\"start\" x=\"382.5\" y=\"-409.8\" font-family=\"Helvetica,sans-Serif\" font-size=\"14.00\">safety ≤ 2.5</text>\n<text text-anchor=\"start\" x=\"370\" y=\"-394.8\" font-family=\"Helvetica,sans-Serif\" font-size=\"14.00\">entropy = 1.199</text>\n<text text-anchor=\"start\" x=\"369\" y=\"-379.8\" font-family=\"Helvetica,sans-Serif\" font-size=\"14.00\">samples = 1157</text>\n<text text-anchor=\"start\" x=\"340.5\" y=\"-364.8\" font-family=\"Helvetica,sans-Serif\" font-size=\"14.00\">value = [247, 50, 818, 42]</text>\n<text text-anchor=\"start\" x=\"376\" y=\"-349.8\" font-family=\"Helvetica,sans-Serif\" font-size=\"14.00\">class = unacc</text>\n</g>\n<!-- 1 -->\n<g id=\"node2\" class=\"node\">\n<title>1</title>\n<path fill=\"#bedff6\" stroke=\"black\" d=\"M404.5,-306C404.5,-306 258.5,-306 258.5,-306 252.5,-306 246.5,-300 246.5,-294 246.5,-294 246.5,-235 246.5,-235 246.5,-229 252.5,-223 258.5,-223 258.5,-223 404.5,-223 404.5,-223 410.5,-223 416.5,-229 416.5,-235 416.5,-235 416.5,-294 416.5,-294 416.5,-300 410.5,-306 404.5,-306\"/>\n<text text-anchor=\"start\" x=\"261\" y=\"-290.8\" font-family=\"Helvetica,sans-Serif\" font-size=\"14.00\">maintenance cost ≤ 2.5</text>\n<text text-anchor=\"start\" x=\"284\" y=\"-275.8\" font-family=\"Helvetica,sans-Serif\" font-size=\"14.00\">entropy = 1.494</text>\n<text text-anchor=\"start\" x=\"286.5\" y=\"-260.8\" font-family=\"Helvetica,sans-Serif\" font-size=\"14.00\">samples = 753</text>\n<text text-anchor=\"start\" x=\"254.5\" y=\"-245.8\" font-family=\"Helvetica,sans-Serif\" font-size=\"14.00\">value = [247, 50, 414, 42]</text>\n<text text-anchor=\"start\" x=\"290\" y=\"-230.8\" font-family=\"Helvetica,sans-Serif\" font-size=\"14.00\">class = unacc</text>\n</g>\n<!-- 0&#45;&gt;1 -->\n<g id=\"edge1\" class=\"edge\">\n<title>0&#45;&gt;1</title>\n<path fill=\"none\" stroke=\"black\" d=\"M387.66,-341.91C381.13,-333.01 374.14,-323.51 367.39,-314.33\"/>\n<polygon fill=\"black\" stroke=\"black\" points=\"370.03,-312.01 361.28,-306.02 364.39,-316.15 370.03,-312.01\"/>\n<text text-anchor=\"middle\" x=\"357.51\" y=\"-327.03\" font-family=\"Helvetica,sans-Serif\" font-size=\"14.00\">True</text>\n</g>\n<!-- 8 -->\n<g id=\"node9\" class=\"node\">\n<title>8</title>\n<path fill=\"#399de5\" stroke=\"black\" d=\"M562.5,-298.5C562.5,-298.5 446.5,-298.5 446.5,-298.5 440.5,-298.5 434.5,-292.5 434.5,-286.5 434.5,-286.5 434.5,-242.5 434.5,-242.5 434.5,-236.5 440.5,-230.5 446.5,-230.5 446.5,-230.5 562.5,-230.5 562.5,-230.5 568.5,-230.5 574.5,-236.5 574.5,-242.5 574.5,-242.5 574.5,-286.5 574.5,-286.5 574.5,-292.5 568.5,-298.5 562.5,-298.5\"/>\n<text text-anchor=\"start\" x=\"464.5\" y=\"-283.3\" font-family=\"Helvetica,sans-Serif\" font-size=\"14.00\">entropy = 0.0</text>\n<text text-anchor=\"start\" x=\"459.5\" y=\"-268.3\" font-family=\"Helvetica,sans-Serif\" font-size=\"14.00\">samples = 404</text>\n<text text-anchor=\"start\" x=\"442.5\" y=\"-253.3\" font-family=\"Helvetica,sans-Serif\" font-size=\"14.00\">value = [0, 0, 404, 0]</text>\n<text text-anchor=\"start\" x=\"463\" y=\"-238.3\" font-family=\"Helvetica,sans-Serif\" font-size=\"14.00\">class = unacc</text>\n</g>\n<!-- 0&#45;&gt;8 -->\n<g id=\"edge8\" class=\"edge\">\n<title>0&#45;&gt;8</title>\n<path fill=\"none\" stroke=\"black\" d=\"M447.68,-341.91C456.14,-330.54 465.33,-318.18 473.81,-306.77\"/>\n<polygon fill=\"black\" stroke=\"black\" points=\"476.68,-308.78 479.84,-298.67 471.06,-304.6 476.68,-308.78\"/>\n<text text-anchor=\"middle\" x=\"483.47\" y=\"-319.7\" font-family=\"Helvetica,sans-Serif\" font-size=\"14.00\">False</text>\n</g>\n<!-- 2 -->\n<g id=\"node3\" class=\"node\">\n<title>2</title>\n<path fill=\"#90c8f0\" stroke=\"black\" d=\"M308.5,-187C308.5,-187 170.5,-187 170.5,-187 164.5,-187 158.5,-181 158.5,-175 158.5,-175 158.5,-116 158.5,-116 158.5,-110 164.5,-104 170.5,-104 170.5,-104 308.5,-104 308.5,-104 314.5,-104 320.5,-110 320.5,-116 320.5,-116 320.5,-175 320.5,-175 320.5,-181 314.5,-187 308.5,-187\"/>\n<text text-anchor=\"start\" x=\"186\" y=\"-171.8\" font-family=\"Helvetica,sans-Serif\" font-size=\"14.00\">buying price ≤ 3.5</text>\n<text text-anchor=\"start\" x=\"192\" y=\"-156.8\" font-family=\"Helvetica,sans-Serif\" font-size=\"14.00\">entropy = 1.031</text>\n<text text-anchor=\"start\" x=\"194.5\" y=\"-141.8\" font-family=\"Helvetica,sans-Serif\" font-size=\"14.00\">samples = 369</text>\n<text text-anchor=\"start\" x=\"166.5\" y=\"-126.8\" font-family=\"Helvetica,sans-Serif\" font-size=\"14.00\">value = [106, 0, 253, 10]</text>\n<text text-anchor=\"start\" x=\"198\" y=\"-111.8\" font-family=\"Helvetica,sans-Serif\" font-size=\"14.00\">class = unacc</text>\n</g>\n<!-- 1&#45;&gt;2 -->\n<g id=\"edge2\" class=\"edge\">\n<title>1&#45;&gt;2</title>\n<path fill=\"none\" stroke=\"black\" d=\"M299.58,-222.91C292.52,-213.92 284.96,-204.32 277.68,-195.05\"/>\n<polygon fill=\"black\" stroke=\"black\" points=\"280.3,-192.72 271.36,-187.02 274.79,-197.05 280.3,-192.72\"/>\n</g>\n<!-- 5 -->\n<g id=\"node6\" class=\"node\">\n<title>5</title>\n<path fill=\"#eff7fd\" stroke=\"black\" d=\"M496.5,-187C496.5,-187 350.5,-187 350.5,-187 344.5,-187 338.5,-181 338.5,-175 338.5,-175 338.5,-116 338.5,-116 338.5,-110 344.5,-104 350.5,-104 350.5,-104 496.5,-104 496.5,-104 502.5,-104 508.5,-110 508.5,-116 508.5,-116 508.5,-175 508.5,-175 508.5,-181 502.5,-187 496.5,-187\"/>\n<text text-anchor=\"start\" x=\"349.5\" y=\"-171.8\" font-family=\"Helvetica,sans-Serif\" font-size=\"14.00\">number of persons ≤ 2.5</text>\n<text text-anchor=\"start\" x=\"376\" y=\"-156.8\" font-family=\"Helvetica,sans-Serif\" font-size=\"14.00\">entropy = 1.738</text>\n<text text-anchor=\"start\" x=\"378.5\" y=\"-141.8\" font-family=\"Helvetica,sans-Serif\" font-size=\"14.00\">samples = 384</text>\n<text text-anchor=\"start\" x=\"346.5\" y=\"-126.8\" font-family=\"Helvetica,sans-Serif\" font-size=\"14.00\">value = [141, 50, 161, 32]</text>\n<text text-anchor=\"start\" x=\"382\" y=\"-111.8\" font-family=\"Helvetica,sans-Serif\" font-size=\"14.00\">class = unacc</text>\n</g>\n<!-- 1&#45;&gt;5 -->\n<g id=\"edge5\" class=\"edge\">\n<title>1&#45;&gt;5</title>\n<path fill=\"none\" stroke=\"black\" d=\"M363.42,-222.91C370.48,-213.92 378.04,-204.32 385.32,-195.05\"/>\n<polygon fill=\"black\" stroke=\"black\" points=\"388.21,-197.05 391.64,-187.02 382.7,-192.72 388.21,-197.05\"/>\n</g>\n<!-- 3 -->\n<g id=\"node4\" class=\"node\">\n<title>3</title>\n<path fill=\"#75bbed\" stroke=\"black\" d=\"M143,-68C143,-68 12,-68 12,-68 6,-68 0,-62 0,-56 0,-56 0,-12 0,-12 0,-6 6,0 12,0 12,0 143,0 143,0 149,0 155,-6 155,-12 155,-12 155,-56 155,-56 155,-62 149,-68 143,-68\"/>\n<text text-anchor=\"start\" x=\"30\" y=\"-52.8\" font-family=\"Helvetica,sans-Serif\" font-size=\"14.00\">entropy = 0.947</text>\n<text text-anchor=\"start\" x=\"32.5\" y=\"-37.8\" font-family=\"Helvetica,sans-Serif\" font-size=\"14.00\">samples = 269</text>\n<text text-anchor=\"start\" x=\"8\" y=\"-22.8\" font-family=\"Helvetica,sans-Serif\" font-size=\"14.00\">value = [55, 0, 204, 10]</text>\n<text text-anchor=\"start\" x=\"36\" y=\"-7.8\" font-family=\"Helvetica,sans-Serif\" font-size=\"14.00\">class = unacc</text>\n</g>\n<!-- 2&#45;&gt;3 -->\n<g id=\"edge3\" class=\"edge\">\n<title>2&#45;&gt;3</title>\n<path fill=\"none\" stroke=\"black\" d=\"M179.18,-103.73C164.66,-93.92 149.2,-83.46 134.83,-73.75\"/>\n<polygon fill=\"black\" stroke=\"black\" points=\"136.75,-70.83 126.51,-68.13 132.83,-76.62 136.75,-70.83\"/>\n</g>\n<!-- 4 -->\n<g id=\"node5\" class=\"node\">\n<title>4</title>\n<path fill=\"#fefaf7\" stroke=\"black\" d=\"M301.5,-68C301.5,-68 185.5,-68 185.5,-68 179.5,-68 173.5,-62 173.5,-56 173.5,-56 173.5,-12 173.5,-12 173.5,-6 179.5,0 185.5,0 185.5,0 301.5,0 301.5,0 307.5,0 313.5,-6 313.5,-12 313.5,-12 313.5,-56 313.5,-56 313.5,-62 307.5,-68 301.5,-68\"/>\n<text text-anchor=\"start\" x=\"203.5\" y=\"-52.8\" font-family=\"Helvetica,sans-Serif\" font-size=\"14.00\">entropy = 1.0</text>\n<text text-anchor=\"start\" x=\"198.5\" y=\"-37.8\" font-family=\"Helvetica,sans-Serif\" font-size=\"14.00\">samples = 100</text>\n<text text-anchor=\"start\" x=\"181.5\" y=\"-22.8\" font-family=\"Helvetica,sans-Serif\" font-size=\"14.00\">value = [51, 0, 49, 0]</text>\n<text text-anchor=\"start\" x=\"202\" y=\"-7.8\" font-family=\"Helvetica,sans-Serif\" font-size=\"14.00\">class = unacc</text>\n</g>\n<!-- 2&#45;&gt;4 -->\n<g id=\"edge4\" class=\"edge\">\n<title>2&#45;&gt;4</title>\n<path fill=\"none\" stroke=\"black\" d=\"M240.99,-103.73C241.29,-95.52 241.61,-86.86 241.91,-78.56\"/>\n<polygon fill=\"black\" stroke=\"black\" points=\"245.42,-78.42 242.28,-68.3 238.42,-78.17 245.42,-78.42\"/>\n</g>\n<!-- 6 -->\n<g id=\"node7\" class=\"node\">\n<title>6</title>\n<path fill=\"#a9d4f4\" stroke=\"black\" d=\"M488.5,-68C488.5,-68 350.5,-68 350.5,-68 344.5,-68 338.5,-62 338.5,-56 338.5,-56 338.5,-12 338.5,-12 338.5,-6 344.5,0 350.5,0 350.5,0 488.5,0 488.5,0 494.5,0 500.5,-6 500.5,-12 500.5,-12 500.5,-56 500.5,-56 500.5,-62 494.5,-68 488.5,-68\"/>\n<text text-anchor=\"start\" x=\"372\" y=\"-52.8\" font-family=\"Helvetica,sans-Serif\" font-size=\"14.00\">entropy = 1.515</text>\n<text text-anchor=\"start\" x=\"374.5\" y=\"-37.8\" font-family=\"Helvetica,sans-Serif\" font-size=\"14.00\">samples = 246</text>\n<text text-anchor=\"start\" x=\"346.5\" y=\"-22.8\" font-family=\"Helvetica,sans-Serif\" font-size=\"14.00\">value = [65, 23, 144, 14]</text>\n<text text-anchor=\"start\" x=\"378\" y=\"-7.8\" font-family=\"Helvetica,sans-Serif\" font-size=\"14.00\">class = unacc</text>\n</g>\n<!-- 5&#45;&gt;6 -->\n<g id=\"edge6\" class=\"edge\">\n<title>5&#45;&gt;6</title>\n<path fill=\"none\" stroke=\"black\" d=\"M422.01,-103.73C421.71,-95.52 421.39,-86.86 421.09,-78.56\"/>\n<polygon fill=\"black\" stroke=\"black\" points=\"424.58,-78.17 420.72,-68.3 417.58,-78.42 424.58,-78.17\"/>\n</g>\n<!-- 7 -->\n<g id=\"node8\" class=\"node\">\n<title>7</title>\n<path fill=\"#f4c7a8\" stroke=\"black\" d=\"M662,-68C662,-68 531,-68 531,-68 525,-68 519,-62 519,-56 519,-56 519,-12 519,-12 519,-6 525,0 531,0 531,0 662,0 662,0 668,0 674,-6 674,-12 674,-12 674,-56 674,-56 674,-62 668,-68 662,-68\"/>\n<text text-anchor=\"start\" x=\"552.5\" y=\"-52.8\" font-family=\"Helvetica,sans-Serif\" font-size=\"14.00\">entropy = 1.69</text>\n<text text-anchor=\"start\" x=\"551.5\" y=\"-37.8\" font-family=\"Helvetica,sans-Serif\" font-size=\"14.00\">samples = 138</text>\n<text text-anchor=\"start\" x=\"527\" y=\"-22.8\" font-family=\"Helvetica,sans-Serif\" font-size=\"14.00\">value = [76, 27, 17, 18]</text>\n<text text-anchor=\"start\" x=\"555\" y=\"-7.8\" font-family=\"Helvetica,sans-Serif\" font-size=\"14.00\">class = unacc</text>\n</g>\n<!-- 5&#45;&gt;7 -->\n<g id=\"edge7\" class=\"edge\">\n<title>5&#45;&gt;7</title>\n<path fill=\"none\" stroke=\"black\" d=\"M487.92,-103.73C503.56,-93.82 520.24,-83.27 535.71,-73.48\"/>\n<polygon fill=\"black\" stroke=\"black\" points=\"537.59,-76.43 544.17,-68.13 533.84,-70.52 537.59,-76.43\"/>\n</g>\n</g>\n</svg>\n"
          },
          "metadata": {},
          "execution_count": 34
        }
      ]
    },
    {
      "cell_type": "code",
      "source": [],
      "metadata": {
        "id": "-28d5eCnXqw2"
      },
      "execution_count": null,
      "outputs": []
    }
  ]
}